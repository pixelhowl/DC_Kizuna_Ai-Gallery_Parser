{
 "cells": [
  {
   "cell_type": "markdown",
   "metadata": {},
   "source": [
    "# Web scrapper"
   ]
  },
  {
   "cell_type": "code",
   "execution_count": null,
   "metadata": {},
   "outputs": [],
   "source": [
    "!apt update\n",
    "!apt install g++ openjdk-8-jdk openjdk-8-jre \n",
    "!pip install pandas numpy tqdm jnius gevent JPype1-py3 konlpy"
   ]
  },
  {
   "cell_type": "code",
   "execution_count": null,
   "metadata": {},
   "outputs": [],
   "source": [
    "import utils\n",
    "\n",
    "utils.database.generate_db_directory()\n"
   ]
  },
  {
   "cell_type": "code",
   "execution_count": null,
   "metadata": {},
   "outputs": [],
   "source": [
    "start_page_num = 6815073\n",
    "end_page_num = 6989888\n",
    "\n",
    "utils.parsers.run_web_crawler(start_page_num,end_page_num)"
   ]
  },
  {
   "cell_type": "markdown",
   "metadata": {},
   "source": [
    "# tagging"
   ]
  },
  {
   "cell_type": "code",
   "execution_count": null,
   "metadata": {},
   "outputs": [],
   "source": [
    "import utils\n",
    "wordranker = utils.parsers.WordRanker(use_cache=False)\n",
    "wordranker.run()\n",
    "wordranker.word_cloud()"
   ]
  },
  {
   "cell_type": "markdown",
   "metadata": {},
   "source": [
    "# PPT"
   ]
  },
  {
   "cell_type": "code",
   "execution_count": null,
   "metadata": {},
   "outputs": [],
   "source": [
    "import utils\n",
    "\n",
    "yotube_downloader = utils.youtube.YoutubeDownloader()\n",
    "yotube_downloader.run()"
   ]
  },
  {
   "cell_type": "code",
   "execution_count": null,
   "metadata": {},
   "outputs": [],
   "source": [
    "import utils\n",
    "\n",
    "utils.pptx_utils.update_slide(0, 'sum_ai.csv')\n",
    "utils.pptx_utils.update_slide(2, 'sum_ai.csv')\n",
    "utils.pptx_utils.update_slide(3, 'sum_noholo.csv')\n",
    "utils.pptx_utils.update_slide(4, 'youtube.csv')\n",
    "utils.pptx_utils.save_ppt()"
   ]
  },
  {
   "cell_type": "code",
   "execution_count": null,
   "metadata": {},
   "outputs": [],
   "source": [
    "import pandas as pd\n",
    "import utils\n",
    "import os\n",
    "\n",
    "def inc_percentage(a, b):\n",
    "    return 100 * (b - a) / a\n",
    "\n",
    "prev_post_file = os.path.join(utils.parsers.PREV_DIR, utils.parsers.POST_FILENAME)\n",
    "\n",
    "prev_post_content = pd.read_json(prev_post_file)\n",
    "post_content = pd.read_json(utils.parsers.POST_FILE)\n",
    "cur_post_num = post_content['번호'].count()\n",
    "old_post_num = prev_post_content['번호'].count()\n",
    "percentage = inc_percentage(old_post_num, cur_post_num)\n",
    "print(f\"total number of post: {cur_post_num}\")\n",
    "print(f\"inc percentage number of post: {round(percentage, 1)}\")\n",
    "print(post_content.sort_values(by=['추천 수'], ascending=False).head(n=1))\n",
    "print(\"\\n\")\n",
    "print(post_content.sort_values(by=['조회 수'], ascending=False).head(n=1))\n",
    "print(\"\\n\")\n",
    "print(post_content.sort_values(by=['달린 댓글 수'], ascending=False).head(n=1))\n",
    "print(\"\\n\")\n",
    "print(post_content[\"개념글 수\"].value_counts())"
   ]
  },
  {
   "cell_type": "markdown",
   "metadata": {},
   "source": [
    "# Dccon Rank"
   ]
  },
  {
   "cell_type": "code",
   "execution_count": null,
   "metadata": {},
   "outputs": [],
   "source": [
    "import utils\n",
    "wordranker = utils.parsers.wordRanker()\n",
    "wordranker.dccon_rank()\n",
    "wordranker.dccon_download()"
   ]
  },
  {
   "cell_type": "code",
   "execution_count": null,
   "metadata": {},
   "outputs": [],
   "source": [
    "import utils\n",
    "youtuberanker = utils.parsers.youtubeCounter()\n",
    "youtuberanker.run()"
   ]
  }
 ],
 "metadata": {
  "language_info": {
   "name": "python"
  }
 },
 "nbformat": 4,
 "nbformat_minor": 1
}
